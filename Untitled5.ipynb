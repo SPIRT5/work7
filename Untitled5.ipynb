{
  "nbformat": 4,
  "nbformat_minor": 0,
  "metadata": {
    "colab": {
      "provenance": [],
      "authorship_tag": "ABX9TyMx9BCvdL3fYLqhgypkFr4x",
      "include_colab_link": true
    },
    "kernelspec": {
      "name": "python3",
      "display_name": "Python 3"
    },
    "language_info": {
      "name": "python"
    }
  },
  "cells": [
    {
      "cell_type": "markdown",
      "metadata": {
        "id": "view-in-github",
        "colab_type": "text"
      },
      "source": [
        "<a href=\"https://colab.research.google.com/github/SPIRT5/work7/blob/main/Untitled5.ipynb\" target=\"_parent\"><img src=\"https://colab.research.google.com/assets/colab-badge.svg\" alt=\"Open In Colab\"/></a>"
      ]
    },
    {
      "cell_type": "markdown",
      "source": [
        "1. Даны две  независимые выборки. Не соблюдается условие нормальности\n",
        "x1  380,420, 290\n",
        "y1 140,360,200,900\n",
        "\n",
        "Сделайте вывод по результатам, полученным с помощью функции"
      ],
      "metadata": {
        "id": "ze768XV0hudP"
      }
    },
    {
      "cell_type": "code",
      "execution_count": 1,
      "metadata": {
        "colab": {
          "base_uri": "https://localhost:8080/"
        },
        "id": "3OcInjaRhXdo",
        "outputId": "e8e44847-dc34-4ed5-af1f-fb2a63641744"
      },
      "outputs": [
        {
          "output_type": "execute_result",
          "data": {
            "text/plain": [
              "(8.0, 0.6285714285714286)"
            ]
          },
          "metadata": {},
          "execution_count": 1
        }
      ],
      "source": [
        "import scipy.stats as stats\n",
        "\n",
        "# Данные выборок\n",
        "x1 = [380, 420, 290]\n",
        "y1 = [140, 360, 200, 900]\n",
        "\n",
        "# Проведение теста Манна-Уитни\n",
        "u_statistic, p_value = stats.mannwhitneyu(x1, y1, alternative='two-sided')\n",
        "\n",
        "u_statistic, p_value\n"
      ]
    },
    {
      "cell_type": "markdown",
      "source": [
        "Поскольку p-значение (0.6286) значительно больше уровня значимости 0.05, мы не можем отвергнуть нулевую гипотезу. Это означает, что нет статистически значимой разницы между медианами двух выборок x1 и y1"
      ],
      "metadata": {
        "id": "BUS5604QhkCX"
      }
    },
    {
      "cell_type": "markdown",
      "source": [
        "2. Исследовалось влияние препарата на уровень давления пациентов. Сначала измерялось давление до приема препарата, потом через 10 минут и через 30 минут. Есть ли статистически значимые различия?\n",
        "\n",
        "1е измерение до приема препарата: 150, 160, 165, 145, 155\n",
        "2е измерение через 10 минут: 140, 155, 150,  130, 135\n",
        "3е измерение через 30 минут: 130, 130, 120, 130, 125"
      ],
      "metadata": {
        "id": "b36poBoviF0i"
      }
    },
    {
      "cell_type": "code",
      "source": [
        "import scipy.stats as stats\n",
        "\n",
        "# Данные измерений\n",
        "data = [\n",
        "    [150, 160, 165, 145, 155],  # 1-е измерение\n",
        "    [140, 155, 150, 130, 135],  # 2-е измерение через 10 минут\n",
        "    [130, 130, 120, 130, 125]   # 3-е измерение через 30 минут\n",
        "]\n",
        "\n",
        "# Проведение теста Фридмана\n",
        "statistic, p_value = stats.friedmanchisquare(*data)\n",
        "\n",
        "statistic, p_value\n"
      ],
      "metadata": {
        "colab": {
          "base_uri": "https://localhost:8080/"
        },
        "id": "JpCmF-qWiMqV",
        "outputId": "5febda3f-73ff-4768-8640-98f7dff3f67d"
      },
      "execution_count": 2,
      "outputs": [
        {
          "output_type": "execute_result",
          "data": {
            "text/plain": [
              "(9.578947368421062, 0.00831683351100441)"
            ]
          },
          "metadata": {},
          "execution_count": 2
        }
      ]
    },
    {
      "cell_type": "markdown",
      "source": [
        "Поскольку p-значение (0.0083) меньше уровня значимости 0.05, мы отвергаем нулевую гипотезу. Это означает, что есть статистически значимые различия между уровнями давления до приема препарата, через 10 минут и через 30 минут после приема препарата."
      ],
      "metadata": {
        "id": "F8jHI3txiWxt"
      }
    },
    {
      "cell_type": "markdown",
      "source": [
        "3. Сравните 1 и 2 е измерения, предполагая, что 3го измерения через 30 минут не было."
      ],
      "metadata": {
        "id": "ef64P-yRiuG9"
      }
    },
    {
      "cell_type": "code",
      "source": [
        "import scipy.stats as stats\n",
        "\n",
        "# Данные измерений\n",
        "before = [150, 160, 165, 145, 155]\n",
        "after_10min = [140, 155, 150, 130, 135]\n",
        "\n",
        "# Проведение теста Уилкоксона\n",
        "statistic, p_value = stats.wilcoxon(before, after_10min)\n",
        "\n",
        "statistic, p_value\n"
      ],
      "metadata": {
        "colab": {
          "base_uri": "https://localhost:8080/"
        },
        "id": "FNfX7PCgi0cL",
        "outputId": "578639cb-4a2f-4005-9694-533406d45f37"
      },
      "execution_count": 3,
      "outputs": [
        {
          "output_type": "execute_result",
          "data": {
            "text/plain": [
              "(0.0, 0.0625)"
            ]
          },
          "metadata": {},
          "execution_count": 3
        }
      ]
    },
    {
      "cell_type": "markdown",
      "source": [
        "Поскольку p-значение (0.0625) больше уровня значимости 0.05, мы не можем отвергнуть нулевую гипотезу. Это означает, что нет статистически значимых различий между уровнями давления до приема препарата и через 10 минут после приема препарата."
      ],
      "metadata": {
        "id": "MEl58E1ji4mj"
      }
    },
    {
      "cell_type": "markdown",
      "source": [
        "4. Даны 3 группы  учеников плавания.\n",
        "В 1 группе время на дистанцию 50 м составляют:\n",
        "56, 60, 62, 55, 71, 67, 59, 58, 64, 67\n",
        "\n",
        "Вторая группа : 57, 58, 69, 48, 72, 70, 68, 71, 50, 53\n",
        "Третья группа: 57, 67, 49, 48, 47, 55, 66, 51, 54"
      ],
      "metadata": {
        "id": "1MwfKvJNi_Ja"
      }
    },
    {
      "cell_type": "code",
      "source": [
        "import scipy.stats as stats\n",
        "\n",
        "# Данные групп\n",
        "group1 = [56, 60, 62, 55, 71, 67, 59, 58, 64, 67]\n",
        "group2 = [57, 58, 69, 48, 72, 70, 68, 71, 50, 53]\n",
        "group3 = [57, 67, 49, 48, 47, 55, 66, 51, 54]\n",
        "\n",
        "# Проведение теста Крускала-Уоллиса\n",
        "statistic, p_value = stats.kruskal(group1, group2, group3)\n",
        "\n",
        "statistic, p_value\n"
      ],
      "metadata": {
        "colab": {
          "base_uri": "https://localhost:8080/"
        },
        "id": "E0THkJGjjG2T",
        "outputId": "f21da1b5-3c99-4379-b799-10a2d125aef3"
      },
      "execution_count": 4,
      "outputs": [
        {
          "output_type": "execute_result",
          "data": {
            "text/plain": [
              "(5.465564058257224, 0.0650380998590494)"
            ]
          },
          "metadata": {},
          "execution_count": 4
        }
      ]
    },
    {
      "cell_type": "markdown",
      "source": [
        "Если p-значение меньше 0.05, это означает, что есть статистически значимые различия между группами. Если p-значение больше 0.05, это означает, что статистически значимых различий между группами нет."
      ],
      "metadata": {
        "id": "ddRLGHkNEtyF"
      }
    },
    {
      "cell_type": "markdown",
      "source": [
        "5) Заявляется, что партия изготавливается со средним арифметическим 2,5 см. Проверить данную гипотезу, если известно, что размеры изделий подчинены нормальному закону распределения. Объем выборки 10, уровень статистической значимости 5%\n",
        "\n",
        "2.51, 2.35, 2.74, 2.56, 2.40, 2.36, 2.65, 2.7, 2.67, 2.34"
      ],
      "metadata": {
        "id": "lb5Uac23kVfg"
      }
    },
    {
      "cell_type": "code",
      "source": [
        "import numpy as np\n",
        "import scipy.stats as stats\n",
        "\n",
        "# Данные\n",
        "data = [2.51, 2.35, 2.74, 2.56, 2.40, 2.36, 2.65, 2.7, 2.67, 2.34]\n",
        "\n",
        "# Параметры гипотезы\n",
        "mu_0 = 2.5  # заявленное среднее\n",
        "\n",
        "# Вычисление t-статистики и p-значения\n",
        "t_stat, p_value = stats.ttest_1samp(data, mu_0)\n",
        "\n",
        "# Вычисление критического значения t для двустороннего теста\n",
        "alpha = 0.05\n",
        "df = len(data) - 1  # степени свободы\n",
        "t_critical = stats.t.ppf(1 - alpha / 2, df)\n",
        "\n",
        "print(\"t-статистика:\", t_stat)\n",
        "print(\"p-значение:\", p_value)\n",
        "print(\"Критическое значение t:\", t_critical)\n"
      ],
      "metadata": {
        "colab": {
          "base_uri": "https://localhost:8080/"
        },
        "id": "BbRJzzcHFJ7L",
        "outputId": "2e1cf22f-cc44-49aa-e5d7-43c1a2fc85fb"
      },
      "execution_count": 1,
      "outputs": [
        {
          "output_type": "stream",
          "name": "stdout",
          "text": [
            "t-статистика: 0.5630613661802959\n",
            "p-значение: 0.5871439993940628\n",
            "Критическое значение t: 2.2621571627409915\n"
          ]
        }
      ]
    }
  ]
}